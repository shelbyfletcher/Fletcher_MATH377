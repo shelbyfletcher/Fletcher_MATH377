{
 "cells": [
  {
   "cell_type": "code",
   "execution_count": 14,
   "metadata": {},
   "outputs": [],
   "source": [
    "from scipy import stats\n",
    "import numpy as np\n",
    "import matplotlib.pyplot as plt\n",
    "%matplotlib inline"
   ]
  },
  {
   "cell_type": "code",
   "execution_count": 15,
   "metadata": {},
   "outputs": [],
   "source": [
    "ts=[]\n",
    "for i in np.arange(1000):\n",
    "    rs = stats.multinomial.rvs(500, [0.25,0.25,0.25,0.25], size=1)\n",
    "    ts = np.append(ts, np.max(rs)-np.min(rs))"
   ]
  },
  {
   "cell_type": "code",
   "execution_count": 19,
   "metadata": {},
   "outputs": [
    {
     "data": {
      "text/plain": [
       "<function matplotlib.pyplot.show(*args, **kw)>"
      ]
     },
     "execution_count": 19,
     "metadata": {},
     "output_type": "execute_result"
    },
    {
     "data": {
      "image/png": "[encoded data removed]",
      "text/plain": [
       "<Figure size 432x288 with 1 Axes>"
      ]
     },
     "metadata": {},
     "output_type": "display_data"
    }
   ],
   "source": [
    "plt.hist(ts)\n",
    "plt.show"
   ]
  },
  {
   "cell_type": "code",
   "execution_count": 20,
   "metadata": {},
   "outputs": [
    {
     "data": {
      "text/plain": [
       "0.269"
      ]
     },
     "execution_count": 20,
     "metadata": {},
     "output_type": "execute_result"
    }
   ],
   "source": [
    "np.mean(ts>=30)"
   ]
  },
  {
   "cell_type": "code",
   "execution_count": 22,
   "metadata": {},
   "outputs": [],
   "source": [
    "# because this percentage is at about 25%, we fail to reject our null hypothesis "
   ]
  },
  {
   "cell_type": "markdown",
   "metadata": {},
   "source": [
    "Now I'm going to use another test statistic"
   ]
  },
  {
   "cell_type": "code",
   "execution_count": 45,
   "metadata": {},
   "outputs": [],
   "source": [
    "ts2=[]\n",
    "for i in np.arange(1000):\n",
    "    rs = stats.multinomial.rvs(500, [0.25,0.25,0.25,0.25], size=1)\n",
    "    ts2 = np.append(ts2, np.sum(abs(rs-125)))"
   ]
  },
  {
   "cell_type": "code",
   "execution_count": 46,
   "metadata": {},
   "outputs": [
    {
     "data": {
      "text/plain": [
       "array([64., 54., 32., 30., 42., 50., 38., 20., 38., 30., 34., 12., 40.,\n",
       "       10., 32., 28., 50., 16., 62., 28., 32., 24., 22., 22., 26., 28.,\n",
       "       34., 12., 24., 12., 30., 46., 40., 10., 30., 28., 38., 52., 20.,\n",
       "       46., 26., 38., 26., 42., 38., 22., 38., 46., 26., 24., 26., 20.,\n",
       "       26., 18., 56., 24., 42., 44., 50., 44., 12., 12., 32., 44., 22.,\n",
       "        6., 66., 16., 54., 22., 38., 16., 12., 24., 16., 24., 26., 44.,\n",
       "       18., 34., 12., 36., 66., 30., 50., 54., 22., 32., 32., 40., 62.,\n",
       "       26., 38., 24., 22., 28., 46., 46., 26., 24., 64., 38., 68., 32.,\n",
       "       24., 42., 20., 30., 44., 26., 38., 38., 28., 18., 24., 18., 34.,\n",
       "       54., 46., 38., 24., 20., 26., 24., 20., 10., 26., 16., 42., 48.,\n",
       "       40., 40., 26., 36., 24., 44., 26., 12., 26., 24., 46., 18., 34.,\n",
       "       26., 32., 30., 38., 46., 24., 32., 50., 50., 38., 22., 32., 40.,\n",
       "       18., 24., 20., 44., 22., 26., 12., 52., 26., 18., 44.,  8., 22.,\n",
       "       38., 26., 30., 50., 40., 16., 16., 76., 34., 44., 24., 26., 20.,\n",
       "       32., 20., 32., 26., 40., 18., 38., 38., 14., 24., 30., 16., 22.,\n",
       "       14., 10., 24., 38., 20., 20., 18., 32., 42., 26., 62.,  4., 28.,\n",
       "       42., 62., 28., 38., 40., 38., 38., 22., 30., 32., 46., 38., 32.,\n",
       "       20., 24.,  6., 16., 34., 34.,  8., 34., 32., 28.,  8., 34., 22.,\n",
       "       28., 24., 28., 38., 24., 40., 58., 34., 16., 18., 32.,  6., 36.,\n",
       "       36., 26., 28., 22., 18., 22., 14., 28., 36., 34., 14., 22., 10.,\n",
       "       24., 26., 34., 32., 38., 16., 38., 28., 56., 28., 32., 28., 34.,\n",
       "       36., 50., 48., 12., 22., 20.,  4., 26., 24., 16., 32., 50., 38.,\n",
       "       40.,  6., 46., 24., 16., 26., 56., 28., 32., 26., 30., 22., 54.,\n",
       "       56., 44., 26., 22., 16., 18., 28., 40., 18., 40., 16., 10., 26.,\n",
       "       24., 14.,  8., 32., 18., 30., 26., 18., 12., 30., 24., 30., 34.,\n",
       "       20., 28., 22., 18., 22.,  8., 26., 20.,  6., 22., 46., 12., 56.,\n",
       "       40., 34., 60., 18., 26., 26., 18., 14., 28., 34., 32., 18., 26.,\n",
       "       16., 24., 30., 38., 32., 38., 16., 24., 32., 22., 42., 16., 44.,\n",
       "       42., 28., 58., 36., 28., 28., 24., 32., 20., 34., 24., 20., 24.,\n",
       "       36., 58., 42., 10., 14., 30., 22., 40., 26., 48., 34., 26., 32.,\n",
       "       34., 36., 54., 48.,  6., 42., 48., 52., 28., 64., 32., 72., 44.,\n",
       "       46., 16., 30., 28., 28., 38., 30., 46., 12., 36., 10., 38., 20.,\n",
       "       36., 72., 26., 12., 32., 24., 30., 14., 32., 28., 30., 40., 16.,\n",
       "       18., 18., 12., 42., 24., 46., 36., 30., 36., 20., 24., 18., 54.,\n",
       "       40., 36., 44., 40., 38., 32., 12., 20., 56., 14., 50., 48., 24.,\n",
       "       24., 28., 10., 36., 34., 46., 30., 48., 24., 10., 22., 20., 50.,\n",
       "       34., 54., 42., 54., 24., 60., 32., 38., 38., 40., 36., 14., 38.,\n",
       "       30., 44., 52., 52., 30., 36., 36., 20., 22., 34., 32., 36., 50.,\n",
       "       60., 44., 54., 36., 56., 58., 38., 30., 26., 18., 64., 26., 24.,\n",
       "       22., 58., 32., 26., 26., 30., 44., 44., 44., 22., 22., 40., 28.,\n",
       "       20., 70., 28., 64., 52., 18.,  8., 44., 38., 22., 20., 34., 22.,\n",
       "       30., 26., 24., 32., 30., 12., 32., 22., 22., 66., 24., 14., 18.,\n",
       "       18., 26., 38., 32.,  8., 14., 10., 34., 22., 14., 16., 24., 46.,\n",
       "       16., 28., 20., 34., 28., 12., 48., 34., 16., 36., 24., 44., 22.,\n",
       "       38., 30., 40., 24., 38., 42., 46., 28., 42., 32., 12., 28., 28.,\n",
       "       28., 30., 32., 46., 48., 20., 34., 14., 36., 28., 14., 40., 28.,\n",
       "       30., 16., 24., 40., 28., 12., 36., 20., 34., 24., 24., 24., 32.,\n",
       "       14., 50., 28., 24., 34., 34., 20., 14., 38., 22., 44.,  8., 20.,\n",
       "       34., 34., 30., 54., 26., 42., 40., 34., 28., 44., 34., 38., 42.,\n",
       "       18., 16., 36., 26., 12., 22., 10., 36., 44., 22., 40., 12., 30.,\n",
       "       28., 30., 48., 28., 30., 20., 18., 14., 44., 40., 22., 40., 12.,\n",
       "       36., 38., 50., 18., 42., 32., 52., 22., 24., 46., 44., 32., 32.,\n",
       "       22., 24., 28., 30., 28., 18., 50., 34., 18., 24., 24.,  6., 18.,\n",
       "       44., 26., 58.,  2., 16., 14., 18., 44., 24., 40., 18., 46., 48.,\n",
       "       34., 30., 32., 58., 34.,  8., 42., 26., 24., 14., 40., 18.,  8.,\n",
       "       20., 32., 34., 14., 38., 16., 14., 32., 50.,  8., 30., 16., 28.,\n",
       "       24., 52., 32., 26., 24., 30., 10., 20., 24., 18., 50., 16., 54.,\n",
       "       54., 44., 38., 34., 10., 16., 22., 26., 12., 62., 28., 42., 42.,\n",
       "       54., 42., 46., 20., 26., 38., 34., 32., 38., 30., 34., 44., 34.,\n",
       "       20., 32., 12., 60., 56., 20., 52., 32., 30.,  8., 30., 26., 40.,\n",
       "       24., 18., 26., 24., 24., 38., 32., 50., 72., 16.,  8.,  8., 10.,\n",
       "       36., 44., 28., 26., 26., 22., 10., 24., 20., 28., 56., 42., 38.,\n",
       "       52., 52., 18., 16., 34., 24., 64., 10., 30., 22., 28., 24., 48.,\n",
       "       16., 12., 36., 38., 32.,  8., 78., 18., 22., 44., 40., 28., 32.,\n",
       "       48., 22., 38., 30., 34., 30., 32., 62., 64., 44., 12., 28., 28.,\n",
       "       12., 32., 36., 40., 42., 18., 44., 14., 42., 26., 40., 12., 30.,\n",
       "       36., 32., 56., 46., 30., 10., 38., 34., 30., 14., 10., 34., 18.,\n",
       "       22., 42., 30., 32., 24., 30., 44., 34., 20., 36., 30., 26., 22.,\n",
       "       14., 30., 48., 28., 20., 30., 36., 20., 48., 32., 34., 44., 54.,\n",
       "       20., 26., 30., 52., 70., 54., 20., 12., 26., 24., 20., 42., 48.,\n",
       "       26., 40., 50., 42., 44., 16., 18., 48., 16., 38., 32., 24., 18.,\n",
       "       18., 40., 12., 36., 36., 32., 28., 24., 24., 30., 28., 50., 14.,\n",
       "       38., 26., 20., 52., 20., 48., 64., 30., 40., 22., 38., 24., 14.,\n",
       "       30., 24., 50., 12., 42., 26., 14., 52., 28., 18., 20., 42., 34.,\n",
       "       36., 46., 16., 44., 20., 64., 38., 36., 34., 14., 56., 40., 22.,\n",
       "       38., 58., 30., 30., 30., 34., 26., 38., 30., 14., 26., 22., 38.,\n",
       "       22.,  8., 16., 20., 14., 36., 54., 24., 34.,  6., 20., 42.])"
      ]
     },
     "execution_count": 46,
     "metadata": {},
     "output_type": "execute_result"
    }
   ],
   "source": [
    "ts2"
   ]
  },
  {
   "cell_type": "code",
   "execution_count": 47,
   "metadata": {},
   "outputs": [
    {
     "data": {
      "text/plain": [
       "<function matplotlib.pyplot.show(*args, **kw)>"
      ]
     },
     "execution_count": 47,
     "metadata": {},
     "output_type": "execute_result"
    },
    {
     "data": {
      "image/png": "[encoded data removed]",
      "text/plain": [
       "<Figure size 432x288 with 1 Axes>"
      ]
     },
     "metadata": {},
     "output_type": "display_data"
    }
   ],
   "source": [
    "plt.hist(ts2)\n",
    "plt.show"
   ]
  },
  {
   "cell_type": "code",
   "execution_count": 48,
   "metadata": {
    "scrolled": true
   },
   "outputs": [
    {
     "data": {
      "text/plain": [
       "0.101"
      ]
     },
     "execution_count": 48,
     "metadata": {},
     "output_type": "execute_result"
    }
   ],
   "source": [
    "np.mean(ts2>=50)"
   ]
  },
  {
   "cell_type": "code",
   "execution_count": null,
   "metadata": {},
   "outputs": [],
   "source": []
  }
 ],
 "metadata": {
  "kernelspec": {
   "display_name": "Python 3",
   "language": "python",
   "name": "python3"
  },
  "language_info": {
   "codemirror_mode": {
    "name": "ipython",
    "version": 3
   },
   "file_extension": ".py",
   "mimetype": "text/x-python",
   "name": "python",
   "nbconvert_exporter": "python",
   "pygments_lexer": "ipython3",
   "version": "3.6.5"
  }
 },
 "nbformat": 4,
 "nbformat_minor": 2
}
