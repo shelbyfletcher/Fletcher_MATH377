{
 "cells": [
  {
   "cell_type": "markdown",
   "metadata": {},
   "source": [
    "# L9 \n",
    "# C2C Shelby Fletcher"
   ]
  },
  {
   "cell_type": "markdown",
   "metadata": {},
   "source": [
    "## 1) With the tips.csv data set, find: \n",
    "    a) the mean tip broken down by sex; build a histogram with females overlayed by males. \n",
    "    b) the mean tip broken down by time; build a histogram with females overlayed by males. "
   ]
  },
  {
   "cell_type": "code",
   "execution_count": 1,
   "metadata": {},
   "outputs": [],
   "source": [
    "import numpy as np\n",
    "from datascience import *\n",
    "%matplotlib inline\n",
    "import matplotlib.pyplot as plots\n",
    "plots.style.use('fivethirtyeight')\n",
    "import warnings\n",
    "warnings.simplefilter(action=\"ignore\", category=FutureWarning)"
   ]
  },
  {
   "cell_type": "code",
   "execution_count": 2,
   "metadata": {},
   "outputs": [
    {
     "data": {
      "text/html": [
       "<table border=\"1\" class=\"dataframe\">\n",
       "    <thead>\n",
       "        <tr>\n",
       "            <th>total_bill</th> <th>tip</th> <th>sex</th> <th>smoker</th> <th>day</th> <th>time</th> <th>size</th>\n",
       "        </tr>\n",
       "    </thead>\n",
       "    <tbody>\n",
       "        <tr>\n",
       "            <td>16.99     </td> <td>1.01</td> <td>Female</td> <td>No    </td> <td>Sun </td> <td>Dinner</td> <td>2   </td>\n",
       "        </tr>\n",
       "        <tr>\n",
       "            <td>10.34     </td> <td>1.66</td> <td>Male  </td> <td>No    </td> <td>Sun </td> <td>Dinner</td> <td>3   </td>\n",
       "        </tr>\n",
       "        <tr>\n",
       "            <td>21.01     </td> <td>3.5 </td> <td>Male  </td> <td>No    </td> <td>Sun </td> <td>Dinner</td> <td>3   </td>\n",
       "        </tr>\n",
       "        <tr>\n",
       "            <td>23.68     </td> <td>3.31</td> <td>Male  </td> <td>No    </td> <td>Sun </td> <td>Dinner</td> <td>2   </td>\n",
       "        </tr>\n",
       "        <tr>\n",
       "            <td>24.59     </td> <td>3.61</td> <td>Female</td> <td>No    </td> <td>Sun </td> <td>Dinner</td> <td>4   </td>\n",
       "        </tr>\n",
       "        <tr>\n",
       "            <td>25.29     </td> <td>4.71</td> <td>Male  </td> <td>No    </td> <td>Sun </td> <td>Dinner</td> <td>4   </td>\n",
       "        </tr>\n",
       "        <tr>\n",
       "            <td>8.77      </td> <td>2   </td> <td>Male  </td> <td>No    </td> <td>Sun </td> <td>Dinner</td> <td>2   </td>\n",
       "        </tr>\n",
       "        <tr>\n",
       "            <td>26.88     </td> <td>3.12</td> <td>Male  </td> <td>No    </td> <td>Sun </td> <td>Dinner</td> <td>4   </td>\n",
       "        </tr>\n",
       "        <tr>\n",
       "            <td>15.04     </td> <td>1.96</td> <td>Male  </td> <td>No    </td> <td>Sun </td> <td>Dinner</td> <td>2   </td>\n",
       "        </tr>\n",
       "        <tr>\n",
       "            <td>14.78     </td> <td>3.23</td> <td>Male  </td> <td>No    </td> <td>Sun </td> <td>Dinner</td> <td>2   </td>\n",
       "        </tr>\n",
       "    </tbody>\n",
       "</table>\n",
       "<p>... (234 rows omitted)</p>"
      ],
      "text/plain": [
       "total_bill | tip  | sex    | smoker | day  | time   | size\n",
       "16.99      | 1.01 | Female | No     | Sun  | Dinner | 2\n",
       "10.34      | 1.66 | Male   | No     | Sun  | Dinner | 3\n",
       "21.01      | 3.5  | Male   | No     | Sun  | Dinner | 3\n",
       "23.68      | 3.31 | Male   | No     | Sun  | Dinner | 2\n",
       "24.59      | 3.61 | Female | No     | Sun  | Dinner | 4\n",
       "25.29      | 4.71 | Male   | No     | Sun  | Dinner | 4\n",
       "8.77       | 2    | Male   | No     | Sun  | Dinner | 2\n",
       "26.88      | 3.12 | Male   | No     | Sun  | Dinner | 4\n",
       "15.04      | 1.96 | Male   | No     | Sun  | Dinner | 2\n",
       "14.78      | 3.23 | Male   | No     | Sun  | Dinner | 2\n",
       "... (234 rows omitted)"
      ]
     },
     "execution_count": 2,
     "metadata": {},
     "output_type": "execute_result"
    }
   ],
   "source": [
    "# Importing the table and reading the data\n",
    "tips = Table.read_table('tips.csv')\n",
    "tips"
   ]
  },
  {
   "cell_type": "code",
   "execution_count": 3,
   "metadata": {},
   "outputs": [
    {
     "name": "stdout",
     "output_type": "stream",
     "text": [
      "Tips for males are: 3.0896178343949043\n",
      "Tips for females are: 2.8334482758620685\n"
     ]
    },
    {
     "data": {
      "image/png": "[encoded data removed]",
      "text/plain": [
       "<Figure size 432x288 with 1 Axes>"
      ]
     },
     "metadata": {},
     "output_type": "display_data"
    }
   ],
   "source": [
    "# finding the mean tip broken down by sex and creating the overlaying histogram\n",
    "males = tips.where('sex', 'Male')\n",
    "mTip = np.mean(males.column('tip'))\n",
    "print('Tips for males are:', mTip)\n",
    "\n",
    "\n",
    "females = tips.where('sex', 'Female')\n",
    "fTip = np.mean(females.column('tip'))\n",
    "print('Tips for females are:', fTip)\n",
    "\n",
    "bins = np.linspace(0.5,11,20)\n",
    "plots.hist(males.column('tip'), bins, alpha = 0.5, label='Male Tips')\n",
    "plots.hist(females.column('tip'), bins, alpha = 0.5, label='Female Tips')\n",
    "plots.show()"
   ]
  },
  {
   "cell_type": "code",
   "execution_count": 33,
   "metadata": {},
   "outputs": [],
   "source": [
    "def weekday_to_num(day):\n",
    "\n",
    "    if day == 'Mon':\n",
    "        return 1\n",
    "    elif day == 'Tues':\n",
    "        return 2\n",
    "    elif day == 'Wed':\n",
    "        return 3\n",
    "    elif day == 'Thur':\n",
    "        return 4\n",
    "    elif day == 'Fri':\n",
    "        return 5\n",
    "    elif day == 'Sat':\n",
    "        return 6\n",
    "    elif day == 'Sun':\n",
    "        return 7\n",
    "    else:\n",
    "        return \"Please enter a valid day.\"\n",
    "    "
   ]
  },
  {
   "cell_type": "code",
   "execution_count": 34,
   "metadata": {},
   "outputs": [
    {
     "data": {
      "text/html": [
       "<table border=\"1\" class=\"dataframe\">\n",
       "    <thead>\n",
       "        <tr>\n",
       "            <th>total_bill</th> <th>tip</th> <th>sex</th> <th>smoker</th> <th>day</th> <th>time</th> <th>size</th> <th>weekday_num</th>\n",
       "        </tr>\n",
       "    </thead>\n",
       "    <tbody>\n",
       "        <tr>\n",
       "            <td>16.99     </td> <td>1.01</td> <td>Female</td> <td>No    </td> <td>Sun </td> <td>Dinner</td> <td>2   </td> <td>7          </td>\n",
       "        </tr>\n",
       "        <tr>\n",
       "            <td>10.34     </td> <td>1.66</td> <td>Male  </td> <td>No    </td> <td>Sun </td> <td>Dinner</td> <td>3   </td> <td>7          </td>\n",
       "        </tr>\n",
       "        <tr>\n",
       "            <td>21.01     </td> <td>3.5 </td> <td>Male  </td> <td>No    </td> <td>Sun </td> <td>Dinner</td> <td>3   </td> <td>7          </td>\n",
       "        </tr>\n",
       "        <tr>\n",
       "            <td>23.68     </td> <td>3.31</td> <td>Male  </td> <td>No    </td> <td>Sun </td> <td>Dinner</td> <td>2   </td> <td>7          </td>\n",
       "        </tr>\n",
       "        <tr>\n",
       "            <td>24.59     </td> <td>3.61</td> <td>Female</td> <td>No    </td> <td>Sun </td> <td>Dinner</td> <td>4   </td> <td>7          </td>\n",
       "        </tr>\n",
       "        <tr>\n",
       "            <td>25.29     </td> <td>4.71</td> <td>Male  </td> <td>No    </td> <td>Sun </td> <td>Dinner</td> <td>4   </td> <td>7          </td>\n",
       "        </tr>\n",
       "        <tr>\n",
       "            <td>8.77      </td> <td>2   </td> <td>Male  </td> <td>No    </td> <td>Sun </td> <td>Dinner</td> <td>2   </td> <td>7          </td>\n",
       "        </tr>\n",
       "        <tr>\n",
       "            <td>26.88     </td> <td>3.12</td> <td>Male  </td> <td>No    </td> <td>Sun </td> <td>Dinner</td> <td>4   </td> <td>7          </td>\n",
       "        </tr>\n",
       "        <tr>\n",
       "            <td>15.04     </td> <td>1.96</td> <td>Male  </td> <td>No    </td> <td>Sun </td> <td>Dinner</td> <td>2   </td> <td>7          </td>\n",
       "        </tr>\n",
       "        <tr>\n",
       "            <td>14.78     </td> <td>3.23</td> <td>Male  </td> <td>No    </td> <td>Sun </td> <td>Dinner</td> <td>2   </td> <td>7          </td>\n",
       "        </tr>\n",
       "    </tbody>\n",
       "</table>\n",
       "<p>... (234 rows omitted)</p>"
      ],
      "text/plain": [
       "total_bill | tip  | sex    | smoker | day  | time   | size | weekday_num\n",
       "16.99      | 1.01 | Female | No     | Sun  | Dinner | 2    | 7\n",
       "10.34      | 1.66 | Male   | No     | Sun  | Dinner | 3    | 7\n",
       "21.01      | 3.5  | Male   | No     | Sun  | Dinner | 3    | 7\n",
       "23.68      | 3.31 | Male   | No     | Sun  | Dinner | 2    | 7\n",
       "24.59      | 3.61 | Female | No     | Sun  | Dinner | 4    | 7\n",
       "25.29      | 4.71 | Male   | No     | Sun  | Dinner | 4    | 7\n",
       "8.77       | 2    | Male   | No     | Sun  | Dinner | 2    | 7\n",
       "26.88      | 3.12 | Male   | No     | Sun  | Dinner | 4    | 7\n",
       "15.04      | 1.96 | Male   | No     | Sun  | Dinner | 2    | 7\n",
       "14.78      | 3.23 | Male   | No     | Sun  | Dinner | 2    | 7\n",
       "... (234 rows omitted)"
      ]
     },
     "execution_count": 34,
     "metadata": {},
     "output_type": "execute_result"
    }
   ],
   "source": [
    "# add this data to the tips table\n",
    "new = tips.with_columns('weekday_num',tips.apply(weekday_to_num,'day'))\n",
    "new"
   ]
  },
  {
   "cell_type": "code",
   "execution_count": 45,
   "metadata": {},
   "outputs": [],
   "source": [
    "# create a function that will predict the tip amount based on total_bill\n",
    "\n",
    "def est_tip(total_bill):\n",
    "    estimate = tips.where('total_bill', are.between(total_bill-1, total_bill+1)).column('tip')\n",
    "    return np.mean(estimate)"
   ]
  },
  {
   "cell_type": "code",
   "execution_count": 46,
   "metadata": {},
   "outputs": [
    {
     "data": {
      "text/plain": [
       "1.821578947368421"
      ]
     },
     "execution_count": 46,
     "metadata": {},
     "output_type": "execute_result"
    }
   ],
   "source": [
    "est_tip(10)"
   ]
  },
  {
   "cell_type": "code",
   "execution_count": 50,
   "metadata": {},
   "outputs": [
    {
     "data": {
      "text/html": [
       "<table border=\"1\" class=\"dataframe\">\n",
       "    <thead>\n",
       "        <tr>\n",
       "            <th>total_bill</th> <th>tip</th> <th>sex</th> <th>smoker</th> <th>day</th> <th>time</th> <th>size</th> <th>Estimated Tip</th>\n",
       "        </tr>\n",
       "    </thead>\n",
       "    <tbody>\n",
       "        <tr>\n",
       "            <td>16.99     </td> <td>1.01</td> <td>Female</td> <td>No    </td> <td>Sun </td> <td>Dinner</td> <td>2   </td> <td>2.82437      </td>\n",
       "        </tr>\n",
       "        <tr>\n",
       "            <td>10.34     </td> <td>1.66</td> <td>Male  </td> <td>No    </td> <td>Sun </td> <td>Dinner</td> <td>3   </td> <td>1.81136      </td>\n",
       "        </tr>\n",
       "        <tr>\n",
       "            <td>21.01     </td> <td>3.5 </td> <td>Male  </td> <td>No    </td> <td>Sun </td> <td>Dinner</td> <td>3   </td> <td>3.3425       </td>\n",
       "        </tr>\n",
       "        <tr>\n",
       "            <td>23.68     </td> <td>3.31</td> <td>Male  </td> <td>No    </td> <td>Sun </td> <td>Dinner</td> <td>2   </td> <td>3.33867      </td>\n",
       "        </tr>\n",
       "        <tr>\n",
       "            <td>24.59     </td> <td>3.61</td> <td>Female</td> <td>No    </td> <td>Sun </td> <td>Dinner</td> <td>4   </td> <td>3.56267      </td>\n",
       "        </tr>\n",
       "        <tr>\n",
       "            <td>25.29     </td> <td>4.71</td> <td>Male  </td> <td>No    </td> <td>Sun </td> <td>Dinner</td> <td>4   </td> <td>4.19909      </td>\n",
       "        </tr>\n",
       "        <tr>\n",
       "            <td>8.77      </td> <td>2   </td> <td>Male  </td> <td>No    </td> <td>Sun </td> <td>Dinner</td> <td>2   </td> <td>1.865        </td>\n",
       "        </tr>\n",
       "        <tr>\n",
       "            <td>26.88     </td> <td>3.12</td> <td>Male  </td> <td>No    </td> <td>Sun </td> <td>Dinner</td> <td>4   </td> <td>3.48111      </td>\n",
       "        </tr>\n",
       "        <tr>\n",
       "            <td>15.04     </td> <td>1.96</td> <td>Male  </td> <td>No    </td> <td>Sun </td> <td>Dinner</td> <td>2   </td> <td>2.426        </td>\n",
       "        </tr>\n",
       "        <tr>\n",
       "            <td>14.78     </td> <td>3.23</td> <td>Male  </td> <td>No    </td> <td>Sun </td> <td>Dinner</td> <td>2   </td> <td>2.43833      </td>\n",
       "        </tr>\n",
       "    </tbody>\n",
       "</table>\n",
       "<p>... (234 rows omitted)</p>"
      ],
      "text/plain": [
       "total_bill | tip  | sex    | smoker | day  | time   | size | Estimated Tip\n",
       "16.99      | 1.01 | Female | No     | Sun  | Dinner | 2    | 2.82437\n",
       "10.34      | 1.66 | Male   | No     | Sun  | Dinner | 3    | 1.81136\n",
       "21.01      | 3.5  | Male   | No     | Sun  | Dinner | 3    | 3.3425\n",
       "23.68      | 3.31 | Male   | No     | Sun  | Dinner | 2    | 3.33867\n",
       "24.59      | 3.61 | Female | No     | Sun  | Dinner | 4    | 3.56267\n",
       "25.29      | 4.71 | Male   | No     | Sun  | Dinner | 4    | 4.19909\n",
       "8.77       | 2    | Male   | No     | Sun  | Dinner | 2    | 1.865\n",
       "26.88      | 3.12 | Male   | No     | Sun  | Dinner | 4    | 3.48111\n",
       "15.04      | 1.96 | Male   | No     | Sun  | Dinner | 2    | 2.426\n",
       "14.78      | 3.23 | Male   | No     | Sun  | Dinner | 2    | 2.43833\n",
       "... (234 rows omitted)"
      ]
     },
     "execution_count": 50,
     "metadata": {},
     "output_type": "execute_result"
    }
   ],
   "source": [
    "# add the estimated tip into the tips table.\n",
    "\n",
    "estnew = tips.with_column('Estimated Tip', tips.apply(est_tip,'total_bill'))\n",
    "estnew"
   ]
  },
  {
   "cell_type": "code",
   "execution_count": 52,
   "metadata": {},
   "outputs": [
    {
     "data": {
      "image/png": "[encoded data removed]",
      "text/plain": [
       "<Figure size 360x360 with 1 Axes>"
      ]
     },
     "metadata": {},
     "output_type": "display_data"
    }
   ],
   "source": [
    "# createa scatter plot of the tips vs estimated tips \n",
    "estnew.select('total_bill','tip', 'Estimated Tip').scatter('total_bill')"
   ]
  }
 ],
 "metadata": {
  "kernelspec": {
   "display_name": "Python 3",
   "language": "python",
   "name": "python3"
  },
  "language_info": {
   "codemirror_mode": {
    "name": "ipython",
    "version": 3
   },
   "file_extension": ".py",
   "mimetype": "text/x-python",
   "name": "python",
   "nbconvert_exporter": "python",
   "pygments_lexer": "ipython3",
   "version": "3.6.5"
  }
 },
 "nbformat": 4,
 "nbformat_minor": 2
}
