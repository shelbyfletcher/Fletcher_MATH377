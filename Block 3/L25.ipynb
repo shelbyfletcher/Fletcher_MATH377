{
 "cells": [
  {
   "cell_type": "code",
   "execution_count": 7,
   "metadata": {},
   "outputs": [],
   "source": [
    "from datascience import *\n",
    "import numpy as np\n",
    "from math import *\n",
    "from scipy import stats\n",
    "import matplotlib.pyplot as plt\n",
    "%matplotlib inline\n",
    "import random"
   ]
  },
  {
   "cell_type": "markdown",
   "metadata": {},
   "source": [
    "## Lesson 25: Central Limit Theorem"
   ]
  },
  {
   "cell_type": "markdown",
   "metadata": {},
   "source": [
    "We have been conducting hypothesis tests and building confidence intervals for several lessons now. However, we have relied on simulation up until now. Using simulation is beneficial because it does not require any distributional assumptions in your population. It also can be simpler, since the tools are readily available and fairly easy to use. Further, using simulation allows us to build confidence intervals and conduct hypothesis tests on a wider array of parameters. \n",
    "\n",
    "However, this has not always been the case. Before simulation was easy and readily available, we had to use other methods to obtain the distribution of our test statistic under $H_0$. This required a lot of asymptotic theory and heavy reliance on the Central Limit Theorem.\n",
    "\n",
    "There are many ways to state the Central Limit Theorem. One form of the Central Limit Theorem states that regardless of the distribution of a population, the mean of a sample will approximately follow the normal distribution (for sufficient sample size). "
   ]
  },
  {
   "cell_type": "markdown",
   "metadata": {},
   "source": [
    "#### Demonstration\n",
    "\n",
    "Suppose we flip a fair coin. The result of the coin flip is either heads (1) or tails (0). Since this is a fair coin, the probability of each result is 0.5. \n",
    "\n",
    "Now, let's flip the coin 10 times and collect the proportion of heads. Repeat this process 10000 times to see the distribution of the sample proportion.  "
   ]
  },
  {
   "cell_type": "code",
   "execution_count": 8,
   "metadata": {},
   "outputs": [
    {
     "name": "stdout",
     "output_type": "stream",
     "text": [
      "0.4975\n",
      "0.024551749999999997\n"
     ]
    },
    {
     "data": {
      "image/png": "[encoded data removed]",
      "text/plain": [
       "<Figure size 432x288 with 1 Axes>"
      ]
     },
     "metadata": {},
     "output_type": "display_data"
    }
   ],
   "source": [
    "samp_props=[np.mean(random.choices([0,1],k=10)) for _ in np.arange(10000)]\n",
    "print(np.mean(samp_props))\n",
    "print(np.var(samp_props))\n",
    "plt.hist(samp_props)\n",
    "plt.show()"
   ]
  },
  {
   "cell_type": "markdown",
   "metadata": {},
   "source": [
    "Now let's consider 100 flips instead of 10:"
   ]
  },
  {
   "cell_type": "code",
   "execution_count": 9,
   "metadata": {},
   "outputs": [
    {
     "name": "stdout",
     "output_type": "stream",
     "text": [
      "0.49976500000000007\n",
      "0.0024475947750000004\n"
     ]
    },
    {
     "data": {
      "image/png": "[encoded data removed]",
      "text/plain": [
       "<Figure size 432x288 with 1 Axes>"
      ]
     },
     "metadata": {},
     "output_type": "display_data"
    }
   ],
   "source": [
    "samp_props=[np.mean(random.choices([0,1],k=100)) for _ in np.arange(10000)]\n",
    "print(np.mean(samp_props))\n",
    "print(np.var(samp_props))\n",
    "plt.hist(samp_props)\n",
    "plt.show()"
   ]
  },
  {
   "cell_type": "markdown",
   "metadata": {},
   "source": [
    "And now 1000 flips: "
   ]
  },
  {
   "cell_type": "code",
   "execution_count": 10,
   "metadata": {},
   "outputs": [
    {
     "name": "stdout",
     "output_type": "stream",
     "text": [
      "0.5003317\n",
      "0.0002556642751100004\n"
     ]
    },
    {
     "data": {
      "image/png": "[encoded data removed]",
      "text/plain": [
       "<Figure size 432x288 with 1 Axes>"
      ]
     },
     "metadata": {},
     "output_type": "display_data"
    }
   ],
   "source": [
    "samp_props=[np.mean(random.choices([0,1],k=1000)) for _ in np.arange(10000)]\n",
    "print(np.mean(samp_props))\n",
    "print(np.var(samp_props))\n",
    "plt.hist(samp_props)\n",
    "plt.show()"
   ]
  },
  {
   "cell_type": "markdown",
   "metadata": {},
   "source": [
    "What did you notice about the behavior of the sample proportion as the size of the sample increased? \n",
    "\n",
    "First, the distribution of the sample proportion appeared more normal. Second, the variance of the sample mean decreased as the size of the sample increased. "
   ]
  },
  {
   "cell_type": "markdown",
   "metadata": {},
   "source": [
    "This result can be used in inferential statistics."
   ]
  },
  {
   "cell_type": "markdown",
   "metadata": {},
   "source": [
    "#### Example\n",
    "\n",
    "For example, let's consider our `iris` dataset. Suppose we are interested in building a confidence interval for mean petal width of the setosa species. "
   ]
  },
  {
   "cell_type": "markdown",
   "metadata": {},
   "source": [
    "Let's build the confidence interval using simulation. "
   ]
  },
  {
   "cell_type": "code",
   "execution_count": 11,
   "metadata": {},
   "outputs": [
    {
     "ename": "NameError",
     "evalue": "name 'iris' is not defined",
     "output_type": "error",
     "traceback": [
      "\u001b[1;31m---------------------------------------------------------------------------\u001b[0m",
      "\u001b[1;31mNameError\u001b[0m                                 Traceback (most recent call last)",
      "\u001b[1;32m<ipython-input-11-16711af50ab8>\u001b[0m in \u001b[0;36m<module>\u001b[1;34m()\u001b[0m\n\u001b[0;32m      1\u001b[0m \u001b[1;31m# get the relevent information\u001b[0m\u001b[1;33m\u001b[0m\u001b[1;33m\u001b[0m\u001b[0m\n\u001b[1;32m----> 2\u001b[1;33m \u001b[0miris_sub\u001b[0m\u001b[1;33m=\u001b[0m\u001b[0miris\u001b[0m\u001b[1;33m.\u001b[0m\u001b[0mselect\u001b[0m\u001b[1;33m(\u001b[0m\u001b[1;36m4\u001b[0m\u001b[1;33m,\u001b[0m\u001b[1;36m3\u001b[0m\u001b[1;33m)\u001b[0m\u001b[1;33m.\u001b[0m\u001b[0mwhere\u001b[0m\u001b[1;33m(\u001b[0m\u001b[1;34m'species'\u001b[0m\u001b[1;33m,\u001b[0m\u001b[1;34m'setosa'\u001b[0m\u001b[1;33m)\u001b[0m\u001b[1;33m\u001b[0m\u001b[0m\n\u001b[0m\u001b[0;32m      3\u001b[0m \u001b[0miris_sub\u001b[0m\u001b[1;33m\u001b[0m\u001b[0m\n",
      "\u001b[1;31mNameError\u001b[0m: name 'iris' is not defined"
     ]
    }
   ],
   "source": [
    "# get the relevent information\n",
    "iris_sub=iris.select(4,3).where('species','setosa')\n",
    "iris_sub"
   ]
  },
  {
   "cell_type": "code",
   "execution_count": 12,
   "metadata": {},
   "outputs": [
    {
     "ename": "NameError",
     "evalue": "name 'iris_sub' is not defined",
     "output_type": "error",
     "traceback": [
      "\u001b[1;31m---------------------------------------------------------------------------\u001b[0m",
      "\u001b[1;31mNameError\u001b[0m                                 Traceback (most recent call last)",
      "\u001b[1;32m<ipython-input-12-e1d462e7c00d>\u001b[0m in \u001b[0;36m<module>\u001b[1;34m()\u001b[0m\n\u001b[0;32m      1\u001b[0m \u001b[1;31m#sample once, for demonstration\u001b[0m\u001b[1;33m\u001b[0m\u001b[1;33m\u001b[0m\u001b[0m\n\u001b[1;32m----> 2\u001b[1;33m \u001b[0mnum_obs\u001b[0m\u001b[1;33m=\u001b[0m\u001b[0miris_sub\u001b[0m\u001b[1;33m.\u001b[0m\u001b[0mnum_rows\u001b[0m\u001b[1;33m\u001b[0m\u001b[0m\n\u001b[0m\u001b[0;32m      3\u001b[0m \u001b[0miris_sub\u001b[0m\u001b[1;33m.\u001b[0m\u001b[0mwith_column\u001b[0m\u001b[1;33m(\u001b[0m\u001b[1;34m\"sampled\"\u001b[0m\u001b[1;33m,\u001b[0m\u001b[0miris_sub\u001b[0m\u001b[1;33m.\u001b[0m\u001b[0msample\u001b[0m\u001b[1;33m(\u001b[0m\u001b[0mnum_obs\u001b[0m\u001b[1;33m,\u001b[0m\u001b[0mwith_replacement\u001b[0m\u001b[1;33m=\u001b[0m\u001b[1;32mTrue\u001b[0m\u001b[1;33m)\u001b[0m\u001b[1;33m.\u001b[0m\u001b[0mcolumn\u001b[0m\u001b[1;33m(\u001b[0m\u001b[1;36m1\u001b[0m\u001b[1;33m)\u001b[0m\u001b[1;33m)\u001b[0m\u001b[1;33m\u001b[0m\u001b[0m\n",
      "\u001b[1;31mNameError\u001b[0m: name 'iris_sub' is not defined"
     ]
    }
   ],
   "source": [
    "#sample once, for demonstration\n",
    "num_obs=iris_sub.num_rows\n",
    "iris_sub.with_column(\"sampled\",iris_sub.sample(num_obs,with_replacement=True).column(1))"
   ]
  },
  {
   "cell_type": "code",
   "execution_count": 81,
   "metadata": {},
   "outputs": [],
   "source": [
    "#Sample 10000 times to get an empirical distribution of the sample mean\n",
    "num_obs=iris_sub.num_rows\n",
    "samp_means=[np.mean(iris_sub.with_column(\"sampled\",iris_sub.sample(num_obs,with_replacement=True).column(1)).column(2)) for _ in np.arange(10000)]"
   ]
  },
  {
   "cell_type": "code",
   "execution_count": 82,
   "metadata": {},
   "outputs": [
    {
     "data": {
      "image/png": "[encoded data removed]",
      "text/plain": [
       "<matplotlib.figure.Figure at 0x15a693690b8>"
      ]
     },
     "metadata": {},
     "output_type": "display_data"
    }
   ],
   "source": [
    "plt.hist(samp_means)\n",
    "plt.show()"
   ]
  },
  {
   "cell_type": "code",
   "execution_count": 83,
   "metadata": {},
   "outputs": [
    {
     "data": {
      "text/plain": [
       "array([0.216, 0.274])"
      ]
     },
     "execution_count": 83,
     "metadata": {},
     "output_type": "execute_result"
    }
   ],
   "source": [
    "#Obtain the confidence interval using the percentile function\n",
    "percentile([2.5,97.5],ts)"
   ]
  },
  {
   "cell_type": "markdown",
   "metadata": {},
   "source": [
    "Using asymptotic theory, we would need to utilize the `t` distribution. However, there are some assumptions inherent in this."
   ]
  },
  {
   "cell_type": "code",
   "execution_count": 78,
   "metadata": {},
   "outputs": [
    {
     "data": {
      "text/plain": [
       "array([0.21383762, 0.27416238])"
      ]
     },
     "execution_count": 78,
     "metadata": {},
     "output_type": "execute_result"
    }
   ],
   "source": [
    "xbar=np.mean(iris_sub.column(1))\n",
    "sd=np.std(iris_sub.column(1))\n",
    "\n",
    "xbar+np.array([-1,1])*stats.t.ppf(.975,num_obs-1)*sd/sqrt(num_obs)"
   ]
  },
  {
   "cell_type": "markdown",
   "metadata": {},
   "source": [
    "Now, suppose you were interested in the confidence interval for the median? Or perhaps the 60th percentile? Using simulation, we can simply adapt the above bootstrap approach. However, there is no easy way using asymptotic theory."
   ]
  }
 ],
 "metadata": {
  "kernelspec": {
   "display_name": "Python 3",
   "language": "python",
   "name": "python3"
  },
  "language_info": {
   "codemirror_mode": {
    "name": "ipython",
    "version": 3
   },
   "file_extension": ".py",
   "mimetype": "text/x-python",
   "name": "python",
   "nbconvert_exporter": "python",
   "pygments_lexer": "ipython3",
   "version": "3.6.5"
  }
 },
 "nbformat": 4,
 "nbformat_minor": 2
}
